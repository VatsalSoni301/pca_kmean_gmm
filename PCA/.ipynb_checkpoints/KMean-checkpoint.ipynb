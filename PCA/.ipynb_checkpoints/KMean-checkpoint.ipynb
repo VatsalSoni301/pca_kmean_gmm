{
 "cells": [
  {
   "cell_type": "code",
   "execution_count": 114,
   "metadata": {},
   "outputs": [],
   "source": [
    "from sklearn.cluster import KMeans\n",
    "from sklearn.metrics import classification_report,confusion_matrix,accuracy_score\n",
    "import numpy as np\n",
    "import pandas as pd\n",
    "import random\n",
    "import math\n",
    "import copy"
   ]
  },
  {
   "cell_type": "code",
   "execution_count": 115,
   "metadata": {},
   "outputs": [],
   "source": [
    "df=pd.read_csv(\"intrusion_detection/data_lower.csv\")\n",
    "k = 5"
   ]
  },
  {
   "cell_type": "code",
   "execution_count": 116,
   "metadata": {},
   "outputs": [],
   "source": [
    "Y = []\n",
    "for i in df['xAttack']:\n",
    "    if i==\"normal\":\n",
    "        Y.append(0)\n",
    "    elif i==\"dos\":\n",
    "        Y.append(1)\n",
    "    elif i==\"r2l\":\n",
    "        Y.append(2)\n",
    "    elif i==\"probe\":\n",
    "        Y.append(3)\n",
    "    elif i==\"u2r\":\n",
    "        Y.append(4)"
   ]
  },
  {
   "cell_type": "code",
   "execution_count": 117,
   "metadata": {},
   "outputs": [
    {
     "data": {
      "text/plain": [
       "array([0, 0, 1, ..., 0, 1, 0], dtype=int32)"
      ]
     },
     "execution_count": 117,
     "metadata": {},
     "output_type": "execute_result"
    }
   ],
   "source": [
    "X = df.iloc[:,0:14].values\n",
    "kmeans = KMeans(n_clusters=5).fit(X)\n",
    "kmeans.labels_"
   ]
  },
  {
   "cell_type": "code",
   "execution_count": 118,
   "metadata": {},
   "outputs": [
    {
     "data": {
      "text/plain": [
       "0.8652330261246458"
      ]
     },
     "execution_count": 118,
     "metadata": {},
     "output_type": "execute_result"
    }
   ],
   "source": [
    "kmeans.cluster_centers_\n",
    "cn = confusion_matrix(kmeans.labels_,Y)\n",
    "ans = 0\n",
    "for i in cn:\n",
    "    ans = ans + max(i)\n",
    "purity = ans/len(df)\n",
    "purity"
   ]
  },
  {
   "cell_type": "code",
   "execution_count": 119,
   "metadata": {},
   "outputs": [
    {
     "name": "stdout",
     "output_type": "stream",
     "text": [
      "[0 0 1 ... 0 1 0]\n"
     ]
    }
   ],
   "source": [
    "ypred = kmeans.predict(X)\n",
    "print(ypred)"
   ]
  },
  {
   "cell_type": "code",
   "execution_count": 120,
   "metadata": {},
   "outputs": [],
   "source": [
    "def euclid(a,b):\n",
    "    return np.sqrt(np.sum((a-b)**2))"
   ]
  },
  {
   "cell_type": "code",
   "execution_count": 121,
   "metadata": {},
   "outputs": [],
   "source": [
    "n = X.shape[0]\n",
    "d = X.shape[1]\n",
    "clusters = np.zeros(n)\n",
    "distances = np.zeros((n,k))\n",
    "mean = np.mean(X, axis = 0)\n",
    "std = np.std(X, axis = 0)\n",
    "centers_new = np.random.randn(k,d)*std + mean\n",
    "centers_old = np.zeros([k,d])"
   ]
  },
  {
   "cell_type": "code",
   "execution_count": 122,
   "metadata": {},
   "outputs": [
    {
     "name": "stdout",
     "output_type": "stream",
     "text": [
      "22.703226484734877\n"
     ]
    }
   ],
   "source": [
    "error = 0\n",
    "for i in range(5):\n",
    "    error = error + euclid(centers_new[i], centers_old[i])\n",
    "\n",
    "print(error)"
   ]
  },
  {
   "cell_type": "code",
   "execution_count": 123,
   "metadata": {},
   "outputs": [
    {
     "name": "stdout",
     "output_type": "stream",
     "text": [
      "19.697084378137998\n",
      "FLAG= False\n",
      "1\n",
      "4.678197905500977\n",
      "FLAG= False\n",
      "2\n",
      "0.9276602613377111\n",
      "FLAG= False\n",
      "3\n",
      "0.46907513601230166\n",
      "FLAG= False\n",
      "4\n",
      "0.3954005849696085\n",
      "FLAG= False\n",
      "5\n",
      "0.47603364920138613\n",
      "FLAG= False\n",
      "6\n",
      "0.7280010338407434\n",
      "FLAG= False\n",
      "7\n",
      "0.775134720151766\n",
      "FLAG= False\n",
      "8\n",
      "0.4915785048786375\n",
      "FLAG= False\n",
      "9\n",
      "0.41794897817679005\n",
      "FLAG= False\n",
      "10\n",
      "0.5584699952260299\n",
      "FLAG= False\n",
      "11\n",
      "1.1750293363587512\n",
      "FLAG= False\n",
      "12\n",
      "0.2980131190983642\n",
      "FLAG= False\n",
      "13\n",
      "0.049733471075226174\n",
      "FLAG= False\n",
      "14\n",
      "0.0156534393469823\n",
      "FLAG= False\n",
      "15\n",
      "0.002978274383451103\n",
      "FLAG= False\n",
      "16\n",
      "0.0005851440346334417\n",
      "FLAG= False\n",
      "17\n",
      "0.0005940523579937619\n",
      "FLAG= False\n",
      "18\n",
      "0.0\n",
      "FLAG= False\n",
      "19\n"
     ]
    }
   ],
   "source": [
    "iteration = 0\n",
    "force = False\n",
    "while (error != 0 or force==True) and iteration<1000:\n",
    "    force = False\n",
    "    for i in range(k):\n",
    "        distances[:,i] = np.linalg.norm(X - centers_new[i], axis=1)\n",
    "    \n",
    "    clusters = np.argmin(distances, axis = 1)\n",
    "    \n",
    "    centers_old = copy.deepcopy(centers_new)\n",
    "    for i in range(k):\n",
    "        member = 0\n",
    "        new_center = [0] * d\n",
    "        \n",
    "        for c in range(len(clusters)):\n",
    "            if clusters[c] == i:\n",
    "                member = member + 1\n",
    "                for j in range(0,d):\n",
    "                    new_center[j] += X[c][j]\n",
    "        \n",
    "        if member == 0:\n",
    "            force = True\n",
    "            centers_old = np.zeros([k,c])\n",
    "            centers_new = np.random.randn(k,d)*std + mean\n",
    "            break\n",
    "        else:\n",
    "            new_center = np.array(new_center)\n",
    "            centers_new[i] = new_center/member\n",
    "        \n",
    "    error = 0\n",
    "    for i in range(5):\n",
    "        error = error + euclid(centers_new[i], centers_old[i])\n",
    "    iteration = iteration + 1\n",
    "    print(error)\n",
    "    print(\"FLAG=\",force)\n",
    "    print(iteration)\n",
    "    if error == 0 and force == False:\n",
    "        break\n",
    "\n",
    "# for i in range(k):\n",
    "#     distances[:,i] = np.linalg.norm(X - centers_new[i], axis=1)\n",
    "    \n",
    "# clusters = np.argmin(distances, axis = 1)"
   ]
  },
  {
   "cell_type": "code",
   "execution_count": 124,
   "metadata": {},
   "outputs": [
    {
     "data": {
      "text/plain": [
       "array([1, 1, 3, ..., 1, 3, 1])"
      ]
     },
     "execution_count": 124,
     "metadata": {},
     "output_type": "execute_result"
    }
   ],
   "source": [
    "clusters"
   ]
  },
  {
   "cell_type": "code",
   "execution_count": 125,
   "metadata": {},
   "outputs": [
    {
     "data": {
      "text/plain": [
       "array([[ 1.62720544e+00, -8.18343353e-01, -4.12002637e-01,\n",
       "        -2.72972424e+00, -2.48129752e+00, -8.98233051e-02,\n",
       "         2.53849866e-01, -1.58867150e-01, -1.34423543e-01,\n",
       "        -2.30756553e-03, -9.65708540e-02, -7.74224369e-02,\n",
       "         6.14261623e-02, -3.32500889e-01],\n",
       "       [ 1.72525149e+00, -5.31649780e-01,  5.41990536e-02,\n",
       "        -1.94839214e-02,  4.79532166e-01,  4.41786713e-01,\n",
       "        -1.88264657e-01,  6.24222672e-02, -3.63260242e-03,\n",
       "         3.73623562e-04, -2.76423133e-03,  8.61696969e-03,\n",
       "        -1.24086887e-02,  1.72614292e-03],\n",
       "       [-4.84012781e-01,  5.69020299e+00, -1.01407614e-01,\n",
       "        -2.24048784e-01,  2.57948278e-01, -6.24375691e-01,\n",
       "         2.51477294e-01, -3.56340380e-02,  2.18089362e-02,\n",
       "        -2.71314510e-03,  3.21128817e-02,  2.09338242e-02,\n",
       "        -1.16160426e-03,  3.21690478e-02],\n",
       "       [-3.76052557e+00, -1.22108754e+00,  1.38273959e-02,\n",
       "         2.70753550e-01, -1.33457805e-03, -2.54578940e-01,\n",
       "         1.64099754e-01,  1.72867854e-02,  2.48324404e-02,\n",
       "         4.97007236e-03,  9.04864339e-03,  6.11676752e-02,\n",
       "        -4.97934408e-03,  7.08799098e-02],\n",
       "       [ 3.29194664e+00, -5.09876315e-01,  2.68310819e-01,\n",
       "         3.85458001e+00, -2.25018245e+00, -1.65079814e+00,\n",
       "        -1.56861824e-02, -4.97340906e-01,  4.62153689e-02,\n",
       "        -2.66315730e-02,  4.68091949e-02, -4.51432835e-01,\n",
       "         8.12654158e-02, -1.73164540e-02]])"
      ]
     },
     "execution_count": 125,
     "metadata": {},
     "output_type": "execute_result"
    }
   ],
   "source": [
    "centers_new"
   ]
  },
  {
   "cell_type": "code",
   "execution_count": 126,
   "metadata": {},
   "outputs": [],
   "source": [
    "cn = confusion_matrix(clusters,Y)\n",
    "# cn"
   ]
  },
  {
   "cell_type": "code",
   "execution_count": 127,
   "metadata": {},
   "outputs": [
    {
     "data": {
      "text/plain": [
       "0.8658283917982424"
      ]
     },
     "execution_count": 127,
     "metadata": {},
     "output_type": "execute_result"
    }
   ],
   "source": [
    "ans = 0\n",
    "for i in cn:\n",
    "    ans = ans + max(i)\n",
    "purity = ans/len(df)\n",
    "purity"
   ]
  }
 ],
 "metadata": {
  "kernelspec": {
   "display_name": "Python 3",
   "language": "python",
   "name": "python3"
  },
  "language_info": {
   "codemirror_mode": {
    "name": "ipython",
    "version": 3
   },
   "file_extension": ".py",
   "mimetype": "text/x-python",
   "name": "python",
   "nbconvert_exporter": "python",
   "pygments_lexer": "ipython3",
   "version": "3.6.7"
  }
 },
 "nbformat": 4,
 "nbformat_minor": 2
}
