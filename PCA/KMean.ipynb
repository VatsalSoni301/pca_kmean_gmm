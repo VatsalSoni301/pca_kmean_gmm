{
 "cells": [
  {
   "cell_type": "code",
   "execution_count": 132,
   "metadata": {},
   "outputs": [],
   "source": [
    "from sklearn.cluster import KMeans\n",
    "from sklearn.metrics import classification_report,confusion_matrix,accuracy_score\n",
    "import numpy as np\n",
    "import pandas as pd\n",
    "import random\n",
    "import math\n",
    "import copy"
   ]
  },
  {
   "cell_type": "code",
   "execution_count": 133,
   "metadata": {},
   "outputs": [],
   "source": [
    "df=pd.read_csv(\"intrusion_detection/data_lower.csv\")\n",
    "k = 5"
   ]
  },
  {
   "cell_type": "code",
   "execution_count": 134,
   "metadata": {},
   "outputs": [],
   "source": [
    "Y = []\n",
    "for i in df['xAttack']:\n",
    "    if i==\"normal\":\n",
    "        Y.append(0)\n",
    "    elif i==\"dos\":\n",
    "        Y.append(1)\n",
    "    elif i==\"r2l\":\n",
    "        Y.append(2)\n",
    "    elif i==\"probe\":\n",
    "        Y.append(3)\n",
    "    elif i==\"u2r\":\n",
    "        Y.append(4)"
   ]
  },
  {
   "cell_type": "code",
   "execution_count": 135,
   "metadata": {},
   "outputs": [
    {
     "data": {
      "text/plain": [
       "array([0, 0, 1, ..., 0, 1, 0], dtype=int32)"
      ]
     },
     "execution_count": 135,
     "metadata": {},
     "output_type": "execute_result"
    }
   ],
   "source": [
    "X = df.iloc[:,0:14].values\n",
    "kmeans = KMeans(n_clusters=5).fit(X)\n",
    "kmeans.labels_"
   ]
  },
  {
   "cell_type": "code",
   "execution_count": 136,
   "metadata": {},
   "outputs": [
    {
     "data": {
      "text/plain": [
       "0.8652727171695522"
      ]
     },
     "execution_count": 136,
     "metadata": {},
     "output_type": "execute_result"
    }
   ],
   "source": [
    "kmeans.cluster_centers_\n",
    "cn = confusion_matrix(clusters,Y)\n",
    "ans = 0\n",
    "for i in cn:\n",
    "    ans = ans + max(i)\n",
    "purity = ans/len(df)\n",
    "purity"
   ]
  },
  {
   "cell_type": "code",
   "execution_count": 137,
   "metadata": {},
   "outputs": [
    {
     "name": "stdout",
     "output_type": "stream",
     "text": [
      "[0 0 1 ... 0 1 0]\n"
     ]
    }
   ],
   "source": [
    "ypred = kmeans.predict(X)\n",
    "print(ypred)"
   ]
  },
  {
   "cell_type": "code",
   "execution_count": 138,
   "metadata": {},
   "outputs": [],
   "source": [
    "def euclid(a,b):\n",
    "    return np.sqrt(np.sum((a-b)**2))"
   ]
  },
  {
   "cell_type": "code",
   "execution_count": 139,
   "metadata": {},
   "outputs": [
    {
     "name": "stdout",
     "output_type": "stream",
     "text": [
      "24.549051978584075\n",
      "23.920178820820702\n",
      "FLAG= False\n",
      "1\n",
      "8.19874730081547\n",
      "FLAG= False\n",
      "2\n",
      "1.9682206803324311\n",
      "FLAG= False\n",
      "3\n",
      "1.0555017202373018\n",
      "FLAG= False\n",
      "4\n",
      "0.5305565679828447\n",
      "FLAG= False\n",
      "5\n",
      "0.32289863513864586\n",
      "FLAG= False\n",
      "6\n",
      "0.4500937079302102\n",
      "FLAG= False\n",
      "7\n",
      "0.5471922526722656\n",
      "FLAG= False\n",
      "8\n",
      "0.27671498062960337\n",
      "FLAG= False\n",
      "9\n",
      "0.1264427936147359\n",
      "FLAG= False\n",
      "10\n",
      "0.06170234006647407\n",
      "FLAG= False\n",
      "11\n",
      "0.04674518400215298\n",
      "FLAG= False\n",
      "12\n",
      "0.059337518950658266\n",
      "FLAG= False\n",
      "13\n",
      "0.07484776685735722\n",
      "FLAG= False\n",
      "14\n",
      "0.028537503018354962\n",
      "FLAG= False\n",
      "15\n",
      "0.021111150134492673\n",
      "FLAG= False\n",
      "16\n",
      "0.0006500815524272258\n",
      "FLAG= False\n",
      "17\n",
      "0.0\n",
      "FLAG= False\n",
      "18\n"
     ]
    },
    {
     "data": {
      "text/plain": [
       "array([4, 4, 1, ..., 4, 1, 4])"
      ]
     },
     "execution_count": 139,
     "metadata": {},
     "output_type": "execute_result"
    }
   ],
   "source": [
    "centers_old = np.zeros([k,14])\n",
    "n = X.shape[0]\n",
    "d = X.shape[1]\n",
    "clusters = np.zeros(n)\n",
    "distances = np.zeros((n,k))\n",
    "mean = np.mean(X, axis = 0)\n",
    "std = np.std(X, axis = 0)\n",
    "centers_new = np.random.randn(k,d)*std + mean\n",
    "\n",
    "error = 0\n",
    "for i in range(5):\n",
    "    error = error + euclid(centers_new[i], centers_old[i])\n",
    "\n",
    "# error = np.linalg.norm(centers_new - centers_old)\n",
    "print(error)\n",
    "iteration = 0\n",
    "force = False\n",
    "while (error != 0 or force==True) and iteration<1000:\n",
    "    force = False\n",
    "    for i in range(k):\n",
    "        distances[:,i] = np.linalg.norm(X - centers_new[i], axis=1)\n",
    "    \n",
    "    clusters = np.argmin(distances, axis = 1)\n",
    "    \n",
    "    centers_old = copy.deepcopy(centers_new)\n",
    "    for i in range(k):\n",
    "        member = 0\n",
    "        new_center = [0] * d\n",
    "        for c in range(len(clusters)):\n",
    "            if clusters[c] == i:\n",
    "                member = member + 1\n",
    "                for j in range(0,d):\n",
    "                    new_center[j] += X[c][j]\n",
    "        \n",
    "        if member == 0:\n",
    "            force = True\n",
    "            centers_old = np.zeros([k,c])\n",
    "            centers_new = np.random.randn(k,d)*std + mean\n",
    "            break\n",
    "        else:\n",
    "            new_center = np.array(new_center)\n",
    "            centers_new[i] = new_center/member\n",
    "        \n",
    "    error = 0\n",
    "    for i in range(5):\n",
    "        error = error + euclid(centers_new[i], centers_old[i])\n",
    "    iteration = iteration + 1\n",
    "    print(error)\n",
    "    print(\"FLAG=\",force)\n",
    "    print(iteration)\n",
    "    if error == 0 and force == False:\n",
    "        break\n",
    "\n",
    "for i in range(k):\n",
    "    distances[:,i] = np.linalg.norm(X - centers_new[i], axis=1)\n",
    "    \n",
    "clusters = np.argmin(distances, axis = 1)\n",
    "clusters"
   ]
  },
  {
   "cell_type": "code",
   "execution_count": 140,
   "metadata": {},
   "outputs": [
    {
     "data": {
      "text/plain": [
       "array([[ 3.26766645e+00, -5.05017434e-01,  3.57399663e-01,\n",
       "         3.80432388e+00, -2.22203912e+00, -1.62837012e+00,\n",
       "        -2.83846189e-02, -4.89508533e-01,  5.51059165e-02,\n",
       "        -2.51701704e-02,  4.07578156e-02, -4.38856428e-01,\n",
       "         5.92551058e-02, -1.21567566e-02],\n",
       "       [-3.75890305e+00, -1.22103815e+00,  1.46354513e-02,\n",
       "         2.71363857e-01, -7.73413826e-04, -2.54088449e-01,\n",
       "         1.64298165e-01,  1.73610635e-02,  2.45227526e-02,\n",
       "         4.93281291e-03,  9.18654451e-03,  6.10950097e-02,\n",
       "        -5.16560438e-03,  7.06223034e-02],\n",
       "       [ 1.18072433e+00, -3.79754810e-01,  1.18210437e-01,\n",
       "        -1.50479410e-01,  1.69910958e+00,  3.14620938e+00,\n",
       "        -7.05116475e-02, -9.33083176e+00,  6.56862538e+00,\n",
       "         1.02776952e+00, -3.05868734e-01, -3.09877331e-01,\n",
       "         8.63294933e-01, -1.31700919e+00],\n",
       "       [-4.83352279e-01,  5.68649872e+00, -1.01411360e-01,\n",
       "        -2.23775371e-01,  2.58596231e-01, -6.23948294e-01,\n",
       "         2.46842874e-01, -4.00718831e-02,  1.73270227e-02,\n",
       "        -2.21113479e-02,  3.22766122e-02,  2.69965356e-02,\n",
       "        -1.26417441e-03,  3.21890614e-02],\n",
       "       [ 1.71930607e+00, -5.70845072e-01, -1.33554632e-02,\n",
       "        -3.67085051e-01,  8.98366307e-02,  3.44677959e-01,\n",
       "        -1.31851839e-01,  1.43956863e-01, -9.58563111e-02,\n",
       "        -7.71343407e-03, -1.09873829e-02, -1.26187095e-04,\n",
       "        -1.15143970e-02, -2.59570824e-02]])"
      ]
     },
     "execution_count": 140,
     "metadata": {},
     "output_type": "execute_result"
    }
   ],
   "source": [
    "centers_new"
   ]
  },
  {
   "cell_type": "code",
   "execution_count": 141,
   "metadata": {},
   "outputs": [],
   "source": [
    "cn = confusion_matrix(clusters,Y)"
   ]
  },
  {
   "cell_type": "code",
   "execution_count": 142,
   "metadata": {},
   "outputs": [
    {
     "data": {
      "text/plain": [
       "0.8652171497066832"
      ]
     },
     "execution_count": 142,
     "metadata": {},
     "output_type": "execute_result"
    }
   ],
   "source": [
    "ans = 0\n",
    "for i in cn:\n",
    "    ans = ans + max(i)\n",
    "purity = ans/len(df)\n",
    "purity"
   ]
  }
 ],
 "metadata": {
  "kernelspec": {
   "display_name": "Python 3",
   "language": "python",
   "name": "python3"
  },
  "language_info": {
   "codemirror_mode": {
    "name": "ipython",
    "version": 3
   },
   "file_extension": ".py",
   "mimetype": "text/x-python",
   "name": "python",
   "nbconvert_exporter": "python",
   "pygments_lexer": "ipython3",
   "version": "3.6.7"
  }
 },
 "nbformat": 4,
 "nbformat_minor": 2
}
