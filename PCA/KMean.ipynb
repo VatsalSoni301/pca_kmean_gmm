{
 "cells": [
  {
   "cell_type": "code",
   "execution_count": 101,
   "metadata": {},
   "outputs": [],
   "source": [
    "from sklearn.cluster import KMeans\n",
    "from sklearn.metrics import classification_report,confusion_matrix,accuracy_score\n",
    "import numpy as np\n",
    "import pandas as pd\n",
    "import random\n",
    "import math\n",
    "import copy"
   ]
  },
  {
   "cell_type": "code",
   "execution_count": 102,
   "metadata": {},
   "outputs": [],
   "source": [
    "df=pd.read_csv(\"intrusion_detection/data_lower.csv\")\n",
    "k = 5"
   ]
  },
  {
   "cell_type": "code",
   "execution_count": 103,
   "metadata": {},
   "outputs": [],
   "source": [
    "Y = []\n",
    "for i in df['xAttack']:\n",
    "    if i==\"normal\":\n",
    "        Y.append(0)\n",
    "    elif i==\"dos\":\n",
    "        Y.append(1)\n",
    "    elif i==\"r2l\":\n",
    "        Y.append(2)\n",
    "    elif i==\"probe\":\n",
    "        Y.append(3)\n",
    "    elif i==\"u2r\":\n",
    "        Y.append(4)"
   ]
  },
  {
   "cell_type": "code",
   "execution_count": 104,
   "metadata": {},
   "outputs": [
    {
     "data": {
      "text/plain": [
       "array([1, 1, 0, ..., 1, 0, 1], dtype=int32)"
      ]
     },
     "execution_count": 104,
     "metadata": {},
     "output_type": "execute_result"
    }
   ],
   "source": [
    "X = df.iloc[:,0:14].values\n",
    "kmeans = KMeans(n_clusters=5).fit(X)\n",
    "kmeans.labels_"
   ]
  },
  {
   "cell_type": "code",
   "execution_count": 105,
   "metadata": {},
   "outputs": [
    {
     "data": {
      "text/plain": [
       "0.8384892000666809"
      ]
     },
     "execution_count": 105,
     "metadata": {},
     "output_type": "execute_result"
    }
   ],
   "source": [
    "kmeans.cluster_centers_\n",
    "cn = confusion_matrix(clusters,Y)\n",
    "ans = 0\n",
    "for i in cn:\n",
    "    ans = ans + max(i)\n",
    "purity = ans/len(df)\n",
    "purity"
   ]
  },
  {
   "cell_type": "code",
   "execution_count": 106,
   "metadata": {},
   "outputs": [],
   "source": [
    "def euclid(a,b):\n",
    "    return np.sqrt(np.sum((a-b)**2))"
   ]
  },
  {
   "cell_type": "code",
   "execution_count": 107,
   "metadata": {},
   "outputs": [
    {
     "name": "stdout",
     "output_type": "stream",
     "text": [
      "30.244643516087468\n",
      "24.06711227765573\n",
      "FLAG= False\n",
      "1\n",
      "2.540309696781678\n",
      "FLAG= False\n",
      "2\n",
      "0.8171854768055551\n",
      "FLAG= False\n",
      "3\n",
      "0.32794834695624997\n",
      "FLAG= False\n",
      "4\n",
      "0.17856231155851993\n",
      "FLAG= False\n",
      "5\n",
      "0.10725004532434898\n",
      "FLAG= False\n",
      "6\n",
      "0.06719437301536105\n",
      "FLAG= False\n",
      "7\n",
      "0.06045323478288829\n",
      "FLAG= False\n",
      "8\n",
      "0.08142044392674225\n",
      "FLAG= False\n",
      "9\n",
      "0.11271630904172934\n",
      "FLAG= False\n",
      "10\n",
      "0.15529482083482338\n",
      "FLAG= False\n",
      "11\n",
      "0.18425526646580118\n",
      "FLAG= False\n",
      "12\n",
      "0.12766630459111078\n",
      "FLAG= False\n",
      "13\n",
      "0.04603800452137021\n",
      "FLAG= False\n",
      "14\n",
      "0.018731908956087076\n",
      "FLAG= False\n",
      "15\n",
      "0.005772709711973172\n",
      "FLAG= False\n",
      "16\n",
      "0.001978780817644724\n",
      "FLAG= False\n",
      "17\n",
      "0.0008077450043698343\n",
      "FLAG= False\n",
      "18\n",
      "0.0011867684503150582\n",
      "FLAG= False\n",
      "19\n",
      "0.0002963909294598943\n",
      "FLAG= False\n",
      "20\n",
      "0.0005807095301797856\n",
      "FLAG= False\n",
      "21\n",
      "0.00029703330354237145\n",
      "FLAG= False\n",
      "22\n",
      "0.0\n",
      "FLAG= False\n",
      "23\n"
     ]
    },
    {
     "data": {
      "text/plain": [
       "array([0, 0, 1, ..., 0, 1, 0])"
      ]
     },
     "execution_count": 107,
     "metadata": {},
     "output_type": "execute_result"
    }
   ],
   "source": [
    "centers_old = np.zeros([k,14])\n",
    "n = X.shape[0]\n",
    "d = X.shape[1]\n",
    "clusters = np.zeros(n)\n",
    "distances = np.zeros((n,k))\n",
    "mean = np.mean(X, axis = 0)\n",
    "std = np.std(X, axis = 0)\n",
    "centers_new = np.random.randn(k,d)*std + mean\n",
    "\n",
    "error = 0\n",
    "for i in range(5):\n",
    "    error = error + euclid(centers_new[i], centers_old[i])\n",
    "\n",
    "# error = np.linalg.norm(centers_new - centers_old)\n",
    "print(error)\n",
    "iteration = 0\n",
    "force = False\n",
    "while (error != 0 or force==True) and iteration<1000:\n",
    "    force = False\n",
    "    for i in range(k):\n",
    "        distances[:,i] = np.linalg.norm(X - centers_new[i], axis=1)\n",
    "    \n",
    "    clusters = np.argmin(distances, axis = 1)\n",
    "    \n",
    "    centers_old = copy.deepcopy(centers_new)\n",
    "    for i in range(k):\n",
    "        member = 0\n",
    "        new_center = [0] * d\n",
    "        for c in range(len(clusters)):\n",
    "            if clusters[c] == i:\n",
    "                member = member + 1\n",
    "                for j in range(0,d):\n",
    "                    new_center[j] += X[c][j]\n",
    "        \n",
    "        if member == 0:\n",
    "            force = True\n",
    "            centers_old = np.zeros([k,c])\n",
    "            centers_new = np.random.randn(k,d)*std + mean\n",
    "            break\n",
    "        else:\n",
    "            new_center = np.array(new_center)\n",
    "            centers_new[i] = new_center/member\n",
    "        \n",
    "    error = 0\n",
    "    for i in range(5):\n",
    "        error = error + euclid(centers_new[i], centers_old[i])\n",
    "    iteration = iteration + 1\n",
    "    print(error)\n",
    "    print(\"FLAG=\",force)\n",
    "    print(iteration)\n",
    "    if error == 0 and force == False:\n",
    "        break\n",
    "\n",
    "for i in range(k):\n",
    "    distances[:,i] = np.linalg.norm(X - centers_new[i], axis=1)\n",
    "    \n",
    "clusters = np.argmin(distances, axis = 1)\n",
    "clusters"
   ]
  },
  {
   "cell_type": "code",
   "execution_count": 108,
   "metadata": {},
   "outputs": [
    {
     "data": {
      "text/plain": [
       "array([[ 1.72525392e+00, -5.31656193e-01,  5.41937266e-02,\n",
       "        -1.95145073e-02,  4.79516349e-01,  4.41781254e-01,\n",
       "        -1.88259451e-01,  6.24218047e-02, -3.63227410e-03,\n",
       "         3.73649595e-04, -2.76416655e-03,  8.61769219e-03,\n",
       "        -1.24090167e-02,  1.72993117e-03],\n",
       "       [-3.76052557e+00, -1.22108754e+00,  1.38273959e-02,\n",
       "         2.70753550e-01, -1.33457805e-03, -2.54578940e-01,\n",
       "         1.64099754e-01,  1.72867854e-02,  2.48324404e-02,\n",
       "         4.97007236e-03,  9.04864339e-03,  6.11676752e-02,\n",
       "        -4.97934408e-03,  7.08799098e-02],\n",
       "       [ 3.29194664e+00, -5.09876315e-01,  2.68310819e-01,\n",
       "         3.85458001e+00, -2.25018245e+00, -1.65079814e+00,\n",
       "        -1.56861824e-02, -4.97340906e-01,  4.62153689e-02,\n",
       "        -2.66315730e-02,  4.68091949e-02, -4.51432835e-01,\n",
       "         8.12654158e-02, -1.73164540e-02],\n",
       "       [-4.84012781e-01,  5.69020299e+00, -1.01407614e-01,\n",
       "        -2.24048784e-01,  2.57948278e-01, -6.24375691e-01,\n",
       "         2.51477294e-01, -3.56340380e-02,  2.18089362e-02,\n",
       "        -2.71314510e-03,  3.21128817e-02,  2.09338242e-02,\n",
       "        -1.16160426e-03,  3.21690478e-02],\n",
       "       [ 1.62717764e+00, -8.18330889e-01, -4.12017791e-01,\n",
       "        -2.72981499e+00, -2.48151885e+00, -8.98448539e-02,\n",
       "         2.53863165e-01, -1.58888688e-01, -1.34440451e-01,\n",
       "        -2.30804617e-03, -9.65817956e-02, -7.74370766e-02,\n",
       "         6.14366978e-02, -3.32564575e-01]])"
      ]
     },
     "execution_count": 108,
     "metadata": {},
     "output_type": "execute_result"
    }
   ],
   "source": [
    "centers_new"
   ]
  },
  {
   "cell_type": "code",
   "execution_count": 109,
   "metadata": {},
   "outputs": [],
   "source": [
    "cn = confusion_matrix(clusters,Y)"
   ]
  },
  {
   "cell_type": "code",
   "execution_count": 110,
   "metadata": {},
   "outputs": [
    {
     "data": {
      "text/plain": [
       "0.8658283917982424"
      ]
     },
     "execution_count": 110,
     "metadata": {},
     "output_type": "execute_result"
    }
   ],
   "source": [
    "ans = 0\n",
    "for i in cn:\n",
    "    ans = ans + max(i)\n",
    "purity = ans/len(df)\n",
    "purity"
   ]
  }
 ],
 "metadata": {
  "kernelspec": {
   "display_name": "Python 3",
   "language": "python",
   "name": "python3"
  },
  "language_info": {
   "codemirror_mode": {
    "name": "ipython",
    "version": 3
   },
   "file_extension": ".py",
   "mimetype": "text/x-python",
   "name": "python",
   "nbconvert_exporter": "python",
   "pygments_lexer": "ipython3",
   "version": "3.6.7"
  }
 },
 "nbformat": 4,
 "nbformat_minor": 2
}
