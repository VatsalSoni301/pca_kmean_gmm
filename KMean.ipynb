{
 "cells": [
  {
   "cell_type": "code",
   "execution_count": 1,
   "metadata": {},
   "outputs": [],
   "source": [
    "from sklearn.cluster import KMeans\n",
    "from sklearn.metrics import classification_report,confusion_matrix,accuracy_score\n",
    "from sklearn.metrics.cluster import contingency_matrix\n",
    "import numpy as np\n",
    "import pandas as pd\n",
    "import random\n",
    "import math\n",
    "import copy"
   ]
  },
  {
   "cell_type": "code",
   "execution_count": 2,
   "metadata": {},
   "outputs": [],
   "source": [
    "df=pd.read_csv(\"intrusion_detection/data_lower.csv\")\n",
    "k = 5"
   ]
  },
  {
   "cell_type": "code",
   "execution_count": 3,
   "metadata": {},
   "outputs": [],
   "source": [
    "Y = []\n",
    "for i in df['xAttack']:\n",
    "    if i==\"normal\":\n",
    "        Y.append(0)\n",
    "    elif i==\"dos\":\n",
    "        Y.append(1)\n",
    "    elif i==\"r2l\":\n",
    "        Y.append(2)\n",
    "    elif i==\"probe\":\n",
    "        Y.append(3)\n",
    "    elif i==\"u2r\":\n",
    "        Y.append(4)"
   ]
  },
  {
   "cell_type": "code",
   "execution_count": 4,
   "metadata": {},
   "outputs": [
    {
     "data": {
      "text/plain": [
       "array([1, 0, 2, ..., 1, 2, 1], dtype=int32)"
      ]
     },
     "execution_count": 4,
     "metadata": {},
     "output_type": "execute_result"
    }
   ],
   "source": [
    "X = df.iloc[:,0:14].values\n",
    "kmeans = KMeans(n_clusters=5).fit(X)\n",
    "kmeans.labels_"
   ]
  },
  {
   "cell_type": "code",
   "execution_count": 5,
   "metadata": {},
   "outputs": [
    {
     "data": {
      "text/plain": [
       "0.8385368293205687"
      ]
     },
     "execution_count": 5,
     "metadata": {},
     "output_type": "execute_result"
    }
   ],
   "source": [
    "kmeans.cluster_centers_\n",
    "cn = contingency_matrix(kmeans.labels_,Y)\n",
    "ans = 0\n",
    "for i in cn:\n",
    "    ans = ans + max(i)\n",
    "purity = ans/len(df)\n",
    "purity"
   ]
  },
  {
   "cell_type": "code",
   "execution_count": 6,
   "metadata": {},
   "outputs": [
    {
     "name": "stdout",
     "output_type": "stream",
     "text": [
      "[1 0 2 ... 1 2 1]\n"
     ]
    }
   ],
   "source": [
    "ypred = kmeans.predict(X)\n",
    "print(ypred)"
   ]
  },
  {
   "cell_type": "code",
   "execution_count": 7,
   "metadata": {},
   "outputs": [],
   "source": [
    "def euclid(a,b):\n",
    "    return np.sqrt(np.sum((a-b)**2))"
   ]
  },
  {
   "cell_type": "code",
   "execution_count": 8,
   "metadata": {},
   "outputs": [],
   "source": [
    "n = X.shape[0]\n",
    "d = X.shape[1]\n",
    "clusters = np.zeros(n)\n",
    "distances = np.zeros((n,k))\n",
    "mean = np.mean(X, axis = 0)\n",
    "std = np.std(X, axis = 0)\n",
    "centers_new = np.random.randn(k,d)*std + mean\n",
    "centers_old = np.zeros([k,d])"
   ]
  },
  {
   "cell_type": "code",
   "execution_count": 9,
   "metadata": {},
   "outputs": [
    {
     "name": "stdout",
     "output_type": "stream",
     "text": [
      "21.54890973876367\n"
     ]
    }
   ],
   "source": [
    "error = 0\n",
    "for i in range(5):\n",
    "    error = error + euclid(centers_new[i], centers_old[i])\n",
    "\n",
    "print(error)"
   ]
  },
  {
   "cell_type": "code",
   "execution_count": 10,
   "metadata": {},
   "outputs": [
    {
     "name": "stdout",
     "output_type": "stream",
     "text": [
      "41.676094422004724\n",
      "FLAG= False\n",
      "1\n",
      "4.181483019890768\n",
      "FLAG= False\n",
      "2\n",
      "3.9981246625990923\n",
      "FLAG= False\n",
      "3\n",
      "3.59530218623082\n",
      "FLAG= False\n",
      "4\n",
      "0.8087438230772831\n",
      "FLAG= False\n",
      "5\n",
      "0.20465388176634652\n",
      "FLAG= False\n",
      "6\n",
      "0.05663932136744028\n",
      "FLAG= False\n",
      "7\n",
      "0.031775096450900236\n",
      "FLAG= False\n",
      "8\n",
      "0.024650880637072863\n",
      "FLAG= False\n",
      "9\n",
      "0.010411791504422375\n",
      "FLAG= False\n",
      "10\n",
      "0.0041308046312268755\n",
      "FLAG= False\n",
      "11\n",
      "0.003238402324147176\n",
      "FLAG= False\n",
      "12\n",
      "0.0031778559527150226\n",
      "FLAG= False\n",
      "13\n",
      "0.0024593777429282337\n",
      "FLAG= False\n",
      "14\n",
      "0.002377928914160173\n",
      "FLAG= False\n",
      "15\n",
      "0.0017993566507603148\n",
      "FLAG= False\n",
      "16\n",
      "0.0011381841329630427\n",
      "FLAG= False\n",
      "17\n",
      "0.0010907285206494728\n",
      "FLAG= False\n",
      "18\n",
      "0.0016968427254873796\n",
      "FLAG= False\n",
      "19\n",
      "0.0026421543057233957\n",
      "FLAG= False\n",
      "20\n",
      "0.004314418660474201\n",
      "FLAG= False\n",
      "21\n",
      "0.004696665139154961\n",
      "FLAG= False\n",
      "22\n",
      "0.004565460654527947\n",
      "FLAG= False\n",
      "23\n",
      "0.004903545214929799\n",
      "FLAG= False\n",
      "24\n",
      "0.004097826450797169\n",
      "FLAG= False\n",
      "25\n",
      "0.0029160367442045846\n",
      "FLAG= False\n",
      "26\n",
      "0.0037350020923156836\n",
      "FLAG= False\n",
      "27\n",
      "0.006016625987349455\n",
      "FLAG= False\n",
      "28\n",
      "0.005703287360584083\n",
      "FLAG= False\n",
      "29\n",
      "0.006705799600111608\n",
      "FLAG= False\n",
      "30\n",
      "0.005016075895325518\n",
      "FLAG= False\n",
      "31\n",
      "0.0051269464542443004\n",
      "FLAG= False\n",
      "32\n",
      "0.006120846208361743\n",
      "FLAG= False\n",
      "33\n",
      "0.004852420739425768\n",
      "FLAG= False\n",
      "34\n",
      "0.005343215851359157\n",
      "FLAG= False\n",
      "35\n",
      "0.00564884460445008\n",
      "FLAG= False\n",
      "36\n",
      "0.006167650506852173\n",
      "FLAG= False\n",
      "37\n",
      "0.005797557118437476\n",
      "FLAG= False\n",
      "38\n",
      "0.004999591762176068\n",
      "FLAG= False\n",
      "39\n",
      "0.006427274661762709\n",
      "FLAG= False\n",
      "40\n",
      "0.007492152417177781\n",
      "FLAG= False\n",
      "41\n",
      "0.006458621048461812\n",
      "FLAG= False\n",
      "42\n",
      "0.005342468005570524\n",
      "FLAG= False\n",
      "43\n",
      "0.0057524995792082355\n",
      "FLAG= False\n",
      "44\n",
      "0.006235430038039777\n",
      "FLAG= False\n",
      "45\n",
      "0.008245180546545019\n",
      "FLAG= False\n",
      "46\n",
      "0.009191283169772599\n",
      "FLAG= False\n",
      "47\n",
      "0.012213709146974108\n",
      "FLAG= False\n",
      "48\n",
      "0.012513362819254402\n",
      "FLAG= False\n",
      "49\n",
      "0.014019289037175501\n",
      "FLAG= False\n",
      "50\n",
      "0.018221244453231464\n",
      "FLAG= False\n",
      "51\n",
      "0.024153993461671967\n",
      "FLAG= False\n",
      "52\n",
      "0.031165785134387884\n",
      "FLAG= False\n",
      "53\n",
      "0.05366960152349416\n",
      "FLAG= False\n",
      "54\n",
      "0.07298436797575418\n",
      "FLAG= False\n",
      "55\n",
      "0.0898768310609962\n",
      "FLAG= False\n",
      "56\n",
      "0.11969739730816742\n",
      "FLAG= False\n",
      "57\n",
      "0.18469850347773653\n",
      "FLAG= False\n",
      "58\n",
      "0.2787518102733774\n",
      "FLAG= False\n",
      "59\n",
      "0.4128904188759082\n",
      "FLAG= False\n",
      "60\n",
      "0.2842606906485163\n",
      "FLAG= False\n",
      "61\n",
      "0.1138472334633644\n",
      "FLAG= False\n",
      "62\n",
      "0.05579970081018139\n",
      "FLAG= False\n",
      "63\n",
      "0.033295142572487106\n",
      "FLAG= False\n",
      "64\n",
      "0.032166270690095804\n",
      "FLAG= False\n",
      "65\n",
      "0.01772838059558966\n",
      "FLAG= False\n",
      "66\n",
      "0.009364055360253563\n",
      "FLAG= False\n",
      "67\n",
      "0.020554977409542593\n",
      "FLAG= False\n",
      "68\n",
      "0.0523214255677013\n",
      "FLAG= False\n",
      "69\n",
      "0.07442715929308141\n",
      "FLAG= False\n",
      "70\n",
      "0.025544033307975264\n",
      "FLAG= False\n",
      "71\n",
      "0.018228214386927857\n",
      "FLAG= False\n",
      "72\n",
      "0.0\n",
      "FLAG= False\n",
      "73\n"
     ]
    }
   ],
   "source": [
    "iteration = 0\n",
    "force = False\n",
    "while (error != 0 or force==True) or iteration<1000:\n",
    "    force = False\n",
    "    for i in range(k):\n",
    "        distances[:,i] = np.linalg.norm(X - centers_new[i], axis=1)\n",
    "    \n",
    "    clusters = np.argmin(distances, axis = 1)\n",
    "    \n",
    "    centers_old = copy.deepcopy(centers_new)\n",
    "    for i in range(k):\n",
    "        member = 0\n",
    "        new_center = [0] * d\n",
    "        \n",
    "        for c in range(len(clusters)):\n",
    "            if clusters[c] == i:\n",
    "                member = member + 1\n",
    "                for j in range(0,d):\n",
    "                    new_center[j] += X[c][j]\n",
    "        \n",
    "        if member == 0:\n",
    "            force = True\n",
    "            iteration = 0\n",
    "            centers_old = np.zeros([k,c])\n",
    "            centers_new = np.random.randn(k,d)*std + mean\n",
    "            break\n",
    "        else:\n",
    "            new_center = np.array(new_center)\n",
    "            centers_new[i] = new_center/member\n",
    "        \n",
    "    error = 0\n",
    "    for i in range(5):\n",
    "        error = error + euclid(centers_new[i], centers_old[i])\n",
    "    iteration = iteration + 1\n",
    "    print(error)\n",
    "    print(\"FLAG=\",force)\n",
    "    print(iteration)\n",
    "    if error == 0 and force == False:\n",
    "        break\n",
    "\n",
    "# for i in range(k):\n",
    "#     distances[:,i] = np.linalg.norm(X - centers_new[i], axis=1)\n",
    "    \n",
    "# clusters = np.argmin(distances, axis = 1)"
   ]
  },
  {
   "cell_type": "code",
   "execution_count": 11,
   "metadata": {},
   "outputs": [
    {
     "data": {
      "text/plain": [
       "array([3, 3, 4, ..., 3, 4, 3])"
      ]
     },
     "execution_count": 11,
     "metadata": {},
     "output_type": "execute_result"
    }
   ],
   "source": [
    "clusters"
   ]
  },
  {
   "cell_type": "code",
   "execution_count": 12,
   "metadata": {},
   "outputs": [],
   "source": [
    "# centers_new"
   ]
  },
  {
   "cell_type": "code",
   "execution_count": 13,
   "metadata": {},
   "outputs": [
    {
     "data": {
      "text/plain": [
       "array([[ 1341,   126,   710,  4077,     9],\n",
       "       [ 2783,  6896,     0,  5306,     0],\n",
       "       [   68,     0,    52,     4,     1],\n",
       "       [63017,  4565,   232,  1868,    42],\n",
       "       [  134, 34340,     1,   401,     0]])"
      ]
     },
     "execution_count": 13,
     "metadata": {},
     "output_type": "execute_result"
    }
   ],
   "source": [
    "cont = contingency_matrix(clusters,Y)\n",
    "cont"
   ]
  },
  {
   "cell_type": "code",
   "execution_count": 14,
   "metadata": {},
   "outputs": [
    {
     "data": {
      "text/plain": [
       "0.8604859771538346"
      ]
     },
     "execution_count": 14,
     "metadata": {},
     "output_type": "execute_result"
    }
   ],
   "source": [
    "ans = 0\n",
    "for i in cont:\n",
    "    ans = ans + max(i)\n",
    "purity = ans/len(df)\n",
    "purity"
   ]
  }
 ],
 "metadata": {
  "kernelspec": {
   "display_name": "Python 3",
   "language": "python",
   "name": "python3"
  },
  "language_info": {
   "codemirror_mode": {
    "name": "ipython",
    "version": 3
   },
   "file_extension": ".py",
   "mimetype": "text/x-python",
   "name": "python",
   "nbconvert_exporter": "python",
   "pygments_lexer": "ipython3",
   "version": "3.6.7"
  }
 },
 "nbformat": 4,
 "nbformat_minor": 2
}
