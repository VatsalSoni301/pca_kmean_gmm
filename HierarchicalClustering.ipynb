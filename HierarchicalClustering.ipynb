{
 "cells": [
  {
   "cell_type": "code",
   "execution_count": 21,
   "metadata": {},
   "outputs": [],
   "source": [
    "from sklearn.cluster import AgglomerativeClustering\n",
    "from sklearn.metrics.cluster import contingency_matrix\n",
    "import numpy as np\n",
    "import pandas as pd\n",
    "import io\n",
    "import requests\n",
    "import matplotlib.pyplot as plt"
   ]
  },
  {
   "cell_type": "code",
   "execution_count": 22,
   "metadata": {},
   "outputs": [],
   "source": [
    "df=pd.read_csv(\"intrusion_detection/data_lower.csv\")\n",
    "k = 5\n",
    "# url=\"https://raw.githubusercontent.com/VatsalSoni301/pca_kmean_gmm/master/PCA/intrusion_detection/data_lower.csv\"\n",
    "# s=requests.get(url).content\n",
    "# df=pd.read_csv(io.StringIO(s.decode('utf-8')))\n",
    "# print(df)"
   ]
  },
  {
   "cell_type": "code",
   "execution_count": 23,
   "metadata": {},
   "outputs": [],
   "source": [
    "Y = []\n",
    "for i in df['xAttack']:\n",
    "    if i==\"normal\":\n",
    "        Y.append(0)\n",
    "    elif i==\"dos\":\n",
    "        Y.append(1)\n",
    "    elif i==\"r2l\":\n",
    "        Y.append(2)\n",
    "    elif i==\"probe\":\n",
    "        Y.append(3)\n",
    "    elif i==\"u2r\":\n",
    "        Y.append(4)\n",
    "Y = np.array(Y)\n",
    "Y = Y[0:10000]"
   ]
  },
  {
   "cell_type": "code",
   "execution_count": 24,
   "metadata": {},
   "outputs": [],
   "source": [
    "X = df.iloc[0:10000,0:14].values\n",
    "# X = df.iloc[:,0:14].values"
   ]
  },
  {
   "cell_type": "code",
   "execution_count": 25,
   "metadata": {},
   "outputs": [],
   "source": [
    "cluster = AgglomerativeClustering(n_clusters=k, affinity='euclidean', linkage='single')  \n",
    "labels = cluster.fit_predict(X)  "
   ]
  },
  {
   "cell_type": "code",
   "execution_count": 26,
   "metadata": {},
   "outputs": [],
   "source": [
    "cont = contingency_matrix(labels,Y)"
   ]
  },
  {
   "cell_type": "code",
   "execution_count": 27,
   "metadata": {},
   "outputs": [
    {
     "data": {
      "text/plain": [
       "0.04201694013796607"
      ]
     },
     "execution_count": 27,
     "metadata": {},
     "output_type": "execute_result"
    }
   ],
   "source": [
    "ans = 0\n",
    "for i in cont:\n",
    "    ans = ans + max(i)\n",
    "purity = ans/len(df)\n",
    "purity"
   ]
  },
  {
   "cell_type": "code",
   "execution_count": 31,
   "metadata": {},
   "outputs": [
    {
     "data": {
      "image/png": "[encoded data removed]",
      "text/plain": [
       "<Figure size 432x288 with 1 Axes>"
      ]
     },
     "metadata": {},
     "output_type": "display_data"
    }
   ],
   "source": [
    "labels =  'KMeans', 'GMM', 'Hierarchical',\n",
    "sizes = [83.86241496193628, 86.10892810364126, 80]\n",
    "colors = ['gold', 'yellowgreen', 'lightcoral']\n",
    "explode = (0, 0, 0)\n",
    "plt.pie(sizes, explode=explode, labels=labels, colors=colors,\n",
    "autopct='%1.1f%%', shadow=True, startangle=140)\n",
    "plt.axis('equal')\n",
    "plt.show()"
   ]
  }
 ],
 "metadata": {
  "kernelspec": {
   "display_name": "Python 3",
   "language": "python",
   "name": "python3"
  },
  "language_info": {
   "codemirror_mode": {
    "name": "ipython",
    "version": 3
   },
   "file_extension": ".py",
   "mimetype": "text/x-python",
   "name": "python",
   "nbconvert_exporter": "python",
   "pygments_lexer": "ipython3",
   "version": "3.6.7"
  }
 },
 "nbformat": 4,
 "nbformat_minor": 2
}
