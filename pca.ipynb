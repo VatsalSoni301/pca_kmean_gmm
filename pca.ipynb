{
 "cells": [
  {
   "cell_type": "code",
   "execution_count": 155,
   "metadata": {},
   "outputs": [],
   "source": [
    "from numpy import array\n",
    "from sklearn.decomposition import PCA\n",
    "import numpy as np\n",
    "import pandas as pd\n",
    "import copy"
   ]
  },
  {
   "cell_type": "code",
   "execution_count": 156,
   "metadata": {},
   "outputs": [],
   "source": [
    "df=pd.read_csv(\"intrusion_detection/data.csv\")"
   ]
  },
  {
   "cell_type": "code",
   "execution_count": 157,
   "metadata": {},
   "outputs": [],
   "source": [
    "X = df.iloc[:,0:29].values\n",
    "xmean = np.mean(X, axis=0)\n",
    "xstd = np.std(X,axis=0)\n",
    "# print(xmean)\n",
    "FX = []\n",
    "for index in X:\n",
    "    tmp = []\n",
    "    for i in range(len(index)):\n",
    "        tmp.append((index[i]-xmean[i])/xstd[i])\n",
    "    FX.append(tmp)\n",
    "X = np.array(FX)"
   ]
  },
  {
   "cell_type": "code",
   "execution_count": 158,
   "metadata": {},
   "outputs": [
    {
     "data": {
      "text/plain": [
       "array([[-1.00890196e+00, -2.72003274e-01,  2.95987670e-02, ...,\n",
       "        -2.80443253e-01,  5.76271452e-02, -4.77105224e-01],\n",
       "       [ 4.95837287e-01,  1.12090840e+00,  2.11957570e-01, ...,\n",
       "        -2.14391355e-01,  6.16878703e-02, -6.10499473e-02],\n",
       "       [ 3.80233552e+00, -1.24809808e+00,  5.87652632e-02, ...,\n",
       "        -1.19713775e-01,  9.64973130e-04,  2.78396944e-01],\n",
       "       ...,\n",
       "       [ 2.48968809e-01, -3.36180689e-01,  1.20143331e-01, ...,\n",
       "        -3.36329122e-01, -2.33580051e-02,  9.21945155e-01],\n",
       "       [ 3.72842214e+00, -1.32675911e+00, -6.57663958e-03, ...,\n",
       "        -1.28515515e-01,  1.30273967e-02, -3.60683427e-01],\n",
       "       [-1.05528525e+00, -3.81812087e-01, -1.45448400e-02, ...,\n",
       "        -3.82754699e-01,  4.64759760e-02, -3.59207905e-01]])"
      ]
     },
     "execution_count": 158,
     "metadata": {},
     "output_type": "execute_result"
    }
   ],
   "source": [
    "sklearn_pca = PCA(n_components=14)\n",
    "Y_sklearn = sklearn_pca.fit_transform(X)\n",
    "Y_sklearn"
   ]
  },
  {
   "cell_type": "code",
   "execution_count": 159,
   "metadata": {},
   "outputs": [],
   "source": [
    "meanvector = np.mean(X, axis=0)\n",
    "m = X.shape[0]-1;\n",
    "covariance = ((X - meanvector).T.dot((X - meanvector)))/m\n",
    "# covariance"
   ]
  },
  {
   "cell_type": "code",
   "execution_count": 160,
   "metadata": {},
   "outputs": [],
   "source": [
    "eigenvalue, eigenvector = np.linalg.eig(covariance)\n",
    "eigen_val_vec = []\n",
    "eigenvalue = np.abs(eigenvalue)\n",
    "for i in range(len(eigenvector)):\n",
    "    t = (eigenvalue[i],eigenvector[:,i])\n",
    "    eigen_val_vec.append(t)\n",
    "\n",
    "# eigenvector\n",
    "# eigenvalue"
   ]
  },
  {
   "cell_type": "code",
   "execution_count": 161,
   "metadata": {},
   "outputs": [],
   "source": [
    "eigen_val_vec.sort()\n",
    "eigen_val_vec.reverse()\n",
    "# eigen_val_vec"
   ]
  },
  {
   "cell_type": "code",
   "execution_count": 162,
   "metadata": {},
   "outputs": [
    {
     "data": {
      "text/plain": [
       "14"
      ]
     },
     "execution_count": 162,
     "metadata": {},
     "output_type": "execute_result"
    }
   ],
   "source": [
    "tot = sum(eigenvalue)\n",
    "# eigenvalue = sorted(eigenvalue, reverse=True)\n",
    "pc = 0\n",
    "accuracy = 0\n",
    "lowerdimensionsmatrix = []\n",
    "for i in eigen_val_vec:\n",
    "    \n",
    "    pc = pc + 1\n",
    "    accuracy = accuracy + (i[0]/tot)*100\n",
    "    lowerdimensionsmatrix.append(i[1])\n",
    "    if accuracy>=90:\n",
    "        break\n",
    "\n",
    "pc"
   ]
  },
  {
   "cell_type": "code",
   "execution_count": 163,
   "metadata": {},
   "outputs": [
    {
     "data": {
      "text/plain": [
       "array([[ 1.00890196e+00, -2.72003274e-01,  2.95987665e-02, ...,\n",
       "         2.80443455e-01, -5.76274406e-02,  4.77105290e-01],\n",
       "       [-4.95837288e-01,  1.12090840e+00,  2.11957571e-01, ...,\n",
       "         2.14390935e-01, -6.16872531e-02,  6.10498086e-02],\n",
       "       [-3.80233552e+00, -1.24809808e+00,  5.87652634e-02, ...,\n",
       "         1.19713691e-01, -9.64850412e-04, -2.78396972e-01],\n",
       "       ...,\n",
       "       [-2.48968809e-01, -3.36180688e-01,  1.20143333e-01, ...,\n",
       "         3.36328742e-01,  2.33585523e-02, -9.21945238e-01],\n",
       "       [-3.72842214e+00, -1.32675911e+00, -6.57663946e-03, ...,\n",
       "         1.28515468e-01, -1.30273284e-02,  3.60683412e-01],\n",
       "       [ 1.05528525e+00, -3.81812087e-01, -1.45448406e-02, ...,\n",
       "         3.82754916e-01, -4.64762935e-02,  3.59207976e-01]])"
      ]
     },
     "execution_count": 163,
     "metadata": {},
     "output_type": "execute_result"
    }
   ],
   "source": [
    "\n",
    "lowerdimensionsmatrix = np.array(lowerdimensionsmatrix)\n",
    "lowerdimensionsmatrix = lowerdimensionsmatrix.T\n",
    "X_low = X.dot(lowerdimensionsmatrix)\n",
    "X_low"
   ]
  },
  {
   "cell_type": "code",
   "execution_count": 164,
   "metadata": {},
   "outputs": [],
   "source": [
    "lower_df=pd.DataFrame(X_low)\n",
    "# lower_df"
   ]
  },
  {
   "cell_type": "code",
   "execution_count": 165,
   "metadata": {},
   "outputs": [],
   "source": [
    "df_final = pd.concat([lower_df,df['xAttack']],axis=1)\n",
    "# df_final"
   ]
  },
  {
   "cell_type": "code",
   "execution_count": 166,
   "metadata": {},
   "outputs": [],
   "source": [
    "df_final.to_csv(\"intrusion_detection/data_lower.csv\",index=False)"
   ]
  }
 ],
 "metadata": {
  "kernelspec": {
   "display_name": "Python 3",
   "language": "python",
   "name": "python3"
  },
  "language_info": {
   "codemirror_mode": {
    "name": "ipython",
    "version": 3
   },
   "file_extension": ".py",
   "mimetype": "text/x-python",
   "name": "python",
   "nbconvert_exporter": "python",
   "pygments_lexer": "ipython3",
   "version": "3.6.7"
  }
 },
 "nbformat": 4,
 "nbformat_minor": 2
}
